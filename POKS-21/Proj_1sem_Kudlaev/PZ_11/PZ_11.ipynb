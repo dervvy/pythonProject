{
  "nbformat": 4,
  "nbformat_minor": 0,
  "metadata": {
    "colab": {
      "name": "1.ipynb",
      "provenance": [],
      "authorship_tag": "ABX9TyMrmz/RMcmSpqhqT+W7Lb00",
      "include_colab_link": true
    },
    "kernelspec": {
      "name": "python3",
      "display_name": "Python 3"
    },
    "language_info": {
      "name": "python"
    }
  },
  "cells": [
    {
      "cell_type": "markdown",
      "metadata": {
        "id": "view-in-github",
        "colab_type": "text"
      },
      "source": [
        "<a href=\"https://colab.research.google.com/github/dervvy/pythonProject/blob/master/1.ipynb\" target=\"_parent\"><img src=\"https://colab.research.google.com/assets/colab-badge.svg\" alt=\"Open In Colab\"/></a>"
      ]
    },
    {
      "cell_type": "code",
      "execution_count": 1,
      "metadata": {
        "colab": {
          "base_uri": "https://localhost:8080/"
        },
        "id": "UPYQ6vVqR-2g",
        "outputId": "d7a883cf-af7d-4c48-a11e-554cd1dba079"
      },
      "outputs": [
        {
          "output_type": "stream",
          "name": "stdout",
          "text": [
            "A= 34\n",
            "B= 12\n",
            "Четность одинаковая\n"
          ]
        }
      ],
      "source": [
        "# Даны два целых числа: A, B. Проверить истинность высказывания:\n",
        "# «Числа A и B имеют одинаковую четность».\n",
        "\n",
        "A = input(\"A= \")\n",
        "B = input(\"B= \")\n",
        "\n",
        "while type(A) != int:  # обработка исключений\n",
        "    try:\n",
        "        A = int(A)\n",
        "    except ValueError:\n",
        "        A = input(\"Введите целое число A \")\n",
        "\n",
        "while type(B) != int:  # обработка исключений\n",
        "    try:\n",
        "        B = int(B)\n",
        "    except ValueError:\n",
        "        B = input(\"Введите целое число B \")\n",
        "\n",
        "if A % 2 == B % 2:\n",
        "    print(\"Четность одинаковая\")\n",
        "else:\n",
        "    print(\"Четность разная\")"
      ]
    },
    {
      "cell_type": "code",
      "source": [
        "# Дано целое число N (>0)\n",
        "# Найти произведение 1.1 • 1.2 • 1.3 •... (N сомножителей)\n",
        "\n",
        "n = input('Введите n: ')\n",
        "\n",
        "while type(n) != int:  # обработка исключений\n",
        "    try:\n",
        "        n = int(n)\n",
        "    except ValueError:\n",
        "        n = input('Нужно ввести целое число n: ')\n",
        "\n",
        "while n <= 0:  # обработка исключений\n",
        "    n = int(input('Нужно ввести число n > 0: '))\n",
        "\n",
        "i = 1  # счетчик\n",
        "p = 1  # результат\n",
        "\n",
        "while i != n + 1:  # вычисление произведения\n",
        "    p *= 1 + 0.1 * i\n",
        "    i += 1\n",
        "\n",
        "print('Результат произведения =', p)"
      ],
      "metadata": {
        "colab": {
          "base_uri": "https://localhost:8080/"
        },
        "id": "O83_Sc_cSKju",
        "outputId": "cd51463b-76b6-4391-b026-0eec82be0d43"
      },
      "execution_count": 2,
      "outputs": [
        {
          "output_type": "stream",
          "name": "stdout",
          "text": [
            "Введите n: 3\n",
            "Результат произведения = 1.7160000000000002\n"
          ]
        }
      ]
    },
    {
      "cell_type": "code",
      "source": [
        "# Составить функцию, которая напечатает сорок любых символов\n",
        "\n",
        "\n",
        "def spam(a, b=[]):\n",
        "    k = 1\n",
        "    while k <= 40:\n",
        "        b.append(a)\n",
        "        k += 1\n",
        "    print(b)\n",
        "\n",
        "a = input('Введите любой символ: ')\n",
        "\n",
        "spam(a)"
      ],
      "metadata": {
        "colab": {
          "base_uri": "https://localhost:8080/"
        },
        "id": "6I8NA4jISRwZ",
        "outputId": "19c1ae3e-0596-4722-c048-51f97dfa1db1"
      },
      "execution_count": 3,
      "outputs": [
        {
          "output_type": "stream",
          "name": "stdout",
          "text": [
            "Введите любой символ: 321\n",
            "['321', '321', '321', '321', '321', '321', '321', '321', '321', '321', '321', '321', '321', '321', '321', '321', '321', '321', '321', '321', '321', '321', '321', '321', '321', '321', '321', '321', '321', '321', '321', '321', '321', '321', '321', '321', '321', '321', '321', '321']\n"
          ]
        }
      ]
    }
  ]
}
